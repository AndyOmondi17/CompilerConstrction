{
  "nbformat": 4,
  "nbformat_minor": 0,
  "metadata": {
    "colab": {
      "provenance": [],
      "authorship_tag": "ABX9TyPa5Dk7Ud6JXcXbFlSASrKH",
      "include_colab_link": true
    },
    "kernelspec": {
      "name": "python3",
      "display_name": "Python 3"
    },
    "language_info": {
      "name": "python"
    }
  },
  "cells": [
    {
      "cell_type": "markdown",
      "metadata": {
        "id": "view-in-github",
        "colab_type": "text"
      },
      "source": [
        "<a href=\"https://colab.research.google.com/github/AndyOmondi17/CompilerConstrction/blob/main/CAT2.ipynb\" target=\"_parent\"><img src=\"https://colab.research.google.com/assets/colab-badge.svg\" alt=\"Open In Colab\"/></a>"
      ]
    },
    {
      "cell_type": "markdown",
      "source": [
        "Group 9\n",
        "\n",
        "Xavier Kioko Kimali - 115059\n",
        "\n",
        "Andy Omondi - 105493\n",
        "\n",
        "Jimmy Chepkurui - 122211\n",
        "\n",
        "Lorraine Opiyo - 116287\n",
        "\n",
        "Michelle Were - 135200\n",
        "\n",
        "Priscila Agunda - 123854"
      ],
      "metadata": {
        "id": "gfM_FQSyzBz9"
      }
    },
    {
      "cell_type": "markdown",
      "source": [
        "**Parser to generating your own language**"
      ],
      "metadata": {
        "id": "mIo4lluD0r1V"
      }
    },
    {
      "cell_type": "code",
      "execution_count": null,
      "metadata": {
        "id": "xrQ1jbo1ylk_"
      },
      "outputs": [],
      "source": [
        "#include<stdio.h>\n",
        "#include<string.h>\n",
        "#include<stdlib.h>\n",
        "\n",
        "// Function to handle individual numbers or variables (factors)\n",
        "void fact(char s[]) {\n",
        "    printf(\"factor(%s)\\n\", s); // Prints the factor in the desired format\n",
        "}\n",
        "\n",
        "// Function to parse and generate code for terms (products or quotients)\n",
        "void term(char s[]) {\n",
        "    char temp[100], temp1[100];\n",
        "    int len, i, j, k;\n",
        "    len = strlen(s); // Get the length of the string\n",
        "\n",
        "    // Find the last '*' or '/' in the string\n",
        "    for (i = len - 1; i >= 0; i--) {\n",
        "        if (s[i] == '*' || s[i] == '/')\n",
        "            break;\n",
        "    }\n",
        "\n",
        "    // If '*' or '/' found, split the term and generate code\n",
        "    if (i >= 0) {\n",
        "        // Copy the first part of the term to temp\n",
        "        for (j = 0; j < i; j++) {\n",
        "            temp[j] = s[j];\n",
        "        }\n",
        "        temp[j] = '\\0'; // Null-terminate the string\n",
        "\n",
        "        // Copy the second part of the term to temp1\n",
        "        for (j = i + 1, k = 0; j < len; j++, k++) {\n",
        "            temp1[k] = s[j];\n",
        "        }\n",
        "        temp1[k] = '\\0'; // Null-terminate the string\n",
        "\n",
        "        term(temp); // Recursively process the first part of the term\n",
        "        printf(\"%s \", s[i] == '*' ? \"multiply\" : \"divide\"); // Generate the operation\n",
        "        fact(temp1); // Process the second part of the term as a factor\n",
        "    } else {\n",
        "        fact(s); // If no '*' or '/', treat the entire string as a factor\n",
        "    }\n",
        "}\n",
        "\n",
        "// Function to parse and generate code for expressions\n",
        "void expr(char s[]) {\n",
        "    char temp[100], temp1[100];\n",
        "    int len, i, j, k;\n",
        "    len = strlen(s); // Get the length of the string\n",
        "\n",
        "    // Find the last '+' or '-' in the string\n",
        "    for (i = len - 1; i >= 0; i--) {\n",
        "        if (s[i] == '+' || s[i] == '-')\n",
        "            break;\n",
        "    }\n",
        "\n",
        "    // If '+' or '-' found, split the expression and generate code\n",
        "    if (i >= 0) {\n",
        "        // Copy the first part of the expression to temp\n",
        "        for (j = 0; j < i; j++) {\n",
        "            temp[j] = s[j];\n",
        "        }\n",
        "        temp[j] = '\\0'; // Null-terminate the string\n",
        "\n",
        "        // Copy the second part of the expression to temp1\n",
        "        for (j = i + 1, k = 0; j < len; j++, k++) {\n",
        "            temp1[k] = s[j];\n",
        "        }\n",
        "        temp1[k] = '\\0'; // Null-terminate the string\n",
        "\n",
        "        expr(temp); // Recursively process the first part of the expression\n",
        "        printf(\"%s \", s[i] == '+' ? \"add\" : \"subtract\"); // Generate the operation\n",
        "        term(temp1); // Process the second part of the expression as a term\n",
        "    } else {\n",
        "        term(s); // If no '+' or '-', treat the entire string as a term\n",
        "    }\n",
        "}\n",
        "\n",
        "// Main function\n",
        "int main(void) {\n",
        "    char s[100];\n",
        "\n",
        "    freopen(\"in.txt\", \"r\", stdin); // Open in.txt for reading\n",
        "    while (fgets(s, 100, stdin)) { // Read each line from the file\n",
        "        s[strcspn(s, \"\\n\")] = 0; // Remove newline character if present\n",
        "        printf(\"Input: %s\\n\", s); // Print the input expression\n",
        "        printf(\"Output: \"); // Indicate the start of output\n",
        "        expr(s); // Parse and generate code for the expression\n",
        "        printf(\"\\n\");\n",
        "    }\n",
        "    return 0; // End of the program\n",
        "}\n"
      ]
    }
  ]
}