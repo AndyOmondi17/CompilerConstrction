{
  "nbformat": 4,
  "nbformat_minor": 0,
  "metadata": {
    "colab": {
      "provenance": [],
      "include_colab_link": true
    },
    "kernelspec": {
      "name": "python3",
      "display_name": "Python 3"
    },
    "language_info": {
      "name": "python"
    }
  },
  "cells": [
    {
      "cell_type": "markdown",
      "metadata": {
        "id": "view-in-github",
        "colab_type": "text"
      },
      "source": [
        "<a href=\"https://colab.research.google.com/github/AndyOmondi17/CompilerConstrction/blob/main/CompilerGroup9.ipynb\" target=\"_parent\"><img src=\"https://colab.research.google.com/assets/colab-badge.svg\" alt=\"Open In Colab\"/></a>"
      ]
    },
    {
      "cell_type": "markdown",
      "source": [
        "**Group 9**\n",
        "\n",
        "\n",
        "1.   Xavier Kioko Kimali - 115059\n",
        "2.   Andy Omondi - 105493\n",
        "\n",
        "1.   Jimmy Chepkurui - 122211\n",
        "2.   Lorraine Opiyo - 116287\n",
        "\n",
        "1.   Michelle Were - 135200\n",
        "2.   Priscila Agunda - 123854\n",
        "\n",
        "\n",
        "\n",
        "\n",
        "\n",
        "\n",
        "\n"
      ],
      "metadata": {
        "id": "wpnnjtf6yPFp"
      }
    },
    {
      "cell_type": "markdown",
      "source": [
        "**Compiler Construction Group work - 1**\n",
        "\n",
        "Design a simple script that takes an English sentence(s) (either static or dynamic) and outputs the individual words. E.g. An input can be \"He is a smart student\". The output will be individual words \"He\", \"is\", \"a\", \"smart\" and \"student\". Each word on its own line.\n",
        "\n",
        "**Explain what the resultant lexer from your specification file would do?**\n",
        "The resultant lexer will read an input stream and print out tokens that are sequences of alphabetic characters, hyphens, or apostrophes. All other characters are ignored."
      ],
      "metadata": {
        "id": "wZznSAbgzAp7"
      }
    },
    {
      "cell_type": "code",
      "execution_count": null,
      "metadata": {
        "id": "pSZ8p4ajyEnK"
      },
      "outputs": [],
      "source": [
        "# Definition Section has one header file and one variable which can be accessed inside yylex() and main()\n",
        "\n",
        "%{\n",
        "#include <stdio.h>\n",
        "%}\n",
        "\n",
        "# Rule Section has two rules,\n",
        "# - first rule matches with a combination of letters forming a word,\n",
        "# - second rule matches with other characters\n",
        "%%\n",
        "[a-zA-Z'-]+\tprintf(\"%s\\n\", yytext);\n",
        ".\t;\n",
        "%%\n",
        "\n",
        "# Code Section prints the words present in the given input sentence\n",
        "int yywrap() {\n",
        "    return 1;\n",
        "}\n",
        "\n",
        "int main() {\n",
        "    yylex();\n",
        "    return 0;\n",
        "}"
      ]
    }
  ]
}